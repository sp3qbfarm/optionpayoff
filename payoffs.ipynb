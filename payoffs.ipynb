{
 "cells": [
  {
   "cell_type": "code",
   "execution_count": 122,
   "metadata": {},
   "outputs": [],
   "source": [
    "import numpy as np\n",
    "import matplotlib.pyplot as plt\n",
    "import pandas as pd\n",
    "from bs4 import BeautifulSoup\n",
    "import re\n",
    "from selenium import webdriver\n",
    "from urllib.request import urlopen\n",
    "import string\n",
    "import datetime\n",
    "from dateutil.relativedelta import relativedelta\n",
    "from tkinter import *\n",
    "from matplotlib.backends.backend_tkagg import (\n",
    "    FigureCanvasTkAgg, NavigationToolbar2Tk)\n",
    "# Implement the default Matplotlib key bindings.\n",
    "from matplotlib.backend_bases import key_press_handler\n",
    "from matplotlib.figure import Figure"
   ]
  },
  {
   "cell_type": "code",
   "execution_count": 123,
   "metadata": {},
   "outputs": [],
   "source": [
    "def loaddata(symbol,date):\n",
    "    #getting the data from Yahoo finance\n",
    "    sdate = datetime.datetime.strptime(\"2020-11-13\", '%Y-%m-%d')\n",
    "    edate = datetime.datetime.strptime(date, '%Y-%m-%d')\n",
    "    delta = edate-sdate\n",
    "    url = \"https://finance.yahoo.com/quote/\"+symbol+\"/options?date=\"+str(delta.days*86400+1605225600)\n",
    "    \n",
    "    page = urlopen(url)\n",
    "    html_bytes = page.read()\n",
    "    html = html_bytes.decode(\"utf-8\")\n",
    "    \n",
    "    return html"
   ]
  },
  {
   "cell_type": "code",
   "execution_count": 124,
   "metadata": {},
   "outputs": [],
   "source": [
    "def callpayoff(price, strike, premium):\n",
    "    if price < strike:\n",
    "        return premium*(-100)\n",
    "    else:\n",
    "        return (price-strike)*100 - premium*100\n",
    "def putpayoff(price, strike, premium):\n",
    "    if price > strike:\n",
    "        return premium*(-100)\n",
    "    else:\n",
    "        return (strike-price)*100 - premium*100"
   ]
  },
  {
   "cell_type": "code",
   "execution_count": 125,
   "metadata": {},
   "outputs": [],
   "source": [
    "class Asset:\n",
    "    def __init__(self,underlying,quantity,ls):\n",
    "        self.underlying = underlying\n",
    "        self.quantity = quantity\n",
    "        self.ls = ls\n",
    "    def get_underlying(self):\n",
    "        return self.underlying\n",
    "    def get_quantity(self):\n",
    "        return self.quantity\n",
    "    def get_ls(self):\n",
    "        return self.ls"
   ]
  },
  {
   "cell_type": "code",
   "execution_count": 126,
   "metadata": {},
   "outputs": [],
   "source": [
    "class Option(Asset):\n",
    "    def __init__(self,strike,cp,underlying,quantity,ls,maturity):\n",
    "        super().__init__(underlying,quantity,ls)\n",
    "        self.strike = strike\n",
    "        self.cp = cp\n",
    "        self.maturity = maturity\n",
    "    def get_strike(self):\n",
    "        return self.strike\n",
    "    def get_cp(self):\n",
    "        return self.cp\n",
    "    def get_maturity(self):\n",
    "        return self.maturity\n",
    "    def find_price(self,html):\n",
    "        sdate = datetime.datetime.strptime(\"2020-11-13\", '%Y-%m-%d')\n",
    "        edate = datetime.datetime.strptime(self.maturity, '%Y-%m-%d')\n",
    "        delta = edate-sdate\n",
    "        ender = str(int(self.strike*1000))[::-1]\n",
    "        i = len(ender)\n",
    "        while i < 8:\n",
    "            ender = ender + \"0\"\n",
    "            i+=1\n",
    "        ender = ender[::-1]\n",
    "        combined = self.underlying+str(edate.year)[-2:]+str(edate.month)+str(edate.day)+self.cp.upper()+ender\n",
    "        left = html.find(combined)\n",
    "        right = html.find(combined)+500\n",
    "        b = \"{:.2f}\".format(self.strike)+ \"\"\"</a></td><td class=\"data-col3 Ta(end) Pstart(7px)\" data-reactid=\"\"\"\n",
    "        left1 = html[left:right].find(b)+len(b) + left\n",
    "        c = \">\"\n",
    "        left2 = html[left1:right].find(c) + len(c) + left1\n",
    "        d = \"<\"\n",
    "        right1 = html[left2:right].find(d)+left2\n",
    "\n",
    "        return float(html[left2:right1])\n",
    "        \n",
    "    def get_type(self):\n",
    "        return \"Option\""
   ]
  },
  {
   "cell_type": "code",
   "execution_count": 127,
   "metadata": {},
   "outputs": [],
   "source": [
    "class Stock(Asset):\n",
    "    def __init__(self,underlying,quantity,ls):\n",
    "        super().__init__(underlying,quantity,ls)\n",
    "    #finding the price from the loaddata function\n",
    "    def find_price(self,html):\n",
    "        a = \"\"\"<span class=\"Trsdu(0.3s) Fw(b) Fz(36px) Mb(-4px) D(ib)\" data-reactid=\"50\">\"\"\"\n",
    "        left = html.find(a)+74\n",
    "        right = html.find(a)+84\n",
    "        right1 = left + html[left:right].find(\"</\")\n",
    "        return float(html[left:right1])\n",
    "    def get_type(self):\n",
    "        return \"Stock\""
   ]
  },
  {
   "cell_type": "code",
   "execution_count": 128,
   "metadata": {},
   "outputs": [],
   "source": [
    "class Portfolio:\n",
    "    def __init__(self):\n",
    "        self.calls = []\n",
    "        self.puts = []\n",
    "        self.long = []\n",
    "        self.short = []\n",
    "        self.data = \"\"\n",
    "    def get_data(self):\n",
    "        if len(self.calls)>0:\n",
    "            self.data = loaddata(self.calls[0].get_underlying(),self.calls[0].get_maturity())\n",
    "        else:\n",
    "            self.data = loaddata(self.puts[0].get_underlying(),self.puts[0].get_maturity())\n",
    "    def add_position(self,position):\n",
    "        if position.get_type() == \"Stock\":\n",
    "            if position.get_ls() == \"l\":\n",
    "                self.long.append(position)\n",
    "            else:\n",
    "                self.short.append(position)\n",
    "        else:\n",
    "            if position.get_cp() == \"c\":\n",
    "                self.calls.append(position)\n",
    "            else:\n",
    "                self.puts.append(position)\n",
    "    def stock_payoff(self):\n",
    "        delta = 0\n",
    "        intercept = 0\n",
    "        for i in range(len(self.long)):\n",
    "            delta += self.long[i].get_quantity()\n",
    "        for i in range(len(self.short)):\n",
    "            delta -= self.short[i].get_quantity()\n",
    "            intercept += self.short[i].find_price(self.data) * self.short[i].get_quantity() \n",
    "        return delta, intercept\n",
    "    def option_payoff(self):\n",
    "        if len(self.calls) > 0:\n",
    "            a = max([x.get_strike() for x in self.calls])\n",
    "        else:\n",
    "            a = 0\n",
    "        if len(self.puts) > 0:\n",
    "            b = max([x.get_strike() for x in self.puts])\n",
    "        else:\n",
    "            b = 0\n",
    "        prices = list(range(round(1.5*max(a,b))))\n",
    "        payoffs = []\n",
    "        for i in prices:\n",
    "            temppayoff = 0\n",
    "            for j in range(len(self.calls)):\n",
    "                if self.calls[j].get_ls() == \"s\":\n",
    "                    temppayoff -= callpayoff(i,self.calls[j].get_strike(),self.calls[j].find_price(self.data))*self.calls[j].get_quantity() \n",
    "                else:\n",
    "                    temppayoff += callpayoff(i,self.calls[j].get_strike(),self.calls[j].find_price(self.data))*self.calls[j].get_quantity()\n",
    "            for k in range(len(self.puts)):\n",
    "                if self.puts[k].get_ls() == \"s\":\n",
    "                    temppayoff -= putpayoff(i,self.puts[k].get_strike(),self.puts[k].find_price(self.data))*self.puts[k].get_quantity()\n",
    "                else:\n",
    "                    temppayoff += putpayoff(i,self.puts[k].get_strike(),self.puts[k].find_price(self.data))*self.puts[k].get_quantity()\n",
    "            payoffs.append(temppayoff)\n",
    "        return prices, payoffs\n",
    "    def total_payoff(self):\n",
    "        prices = self.option_payoff()[0]\n",
    "        if len(prices) <1:\n",
    "            prices = list(range(100))\n",
    "        if len(self.option_payoff()[0]) > 0:\n",
    "            optionpayoff = self.option_payoff()[1]\n",
    "        else:\n",
    "            optionpayoff = [0]*100\n",
    "        sd = self.stock_payoff()[0]\n",
    "        si = self.stock_payoff()[1]\n",
    "        stockpayoff = [sd*price+si for price in prices]\n",
    "        totalpayoff = [s+o for s,o in zip(stockpayoff,optionpayoff)]\n",
    "        return prices, totalpayoff"
   ]
  },
  {
   "cell_type": "code",
   "execution_count": null,
   "metadata": {},
   "outputs": [],
   "source": []
  },
  {
   "cell_type": "code",
   "execution_count": 61,
   "metadata": {},
   "outputs": [],
   "source": [
    "a20 = Stock(\"AAPL\",100,\"l\")"
   ]
  },
  {
   "cell_type": "code",
   "execution_count": 60,
   "metadata": {},
   "outputs": [],
   "source": [
    "#self,strike,cp,underlying,quantity,ls,maturity\n",
    "ac20 = Option(119,\"p\",\"AAPL\",1,\"l\",\"2020-11-27\")"
   ]
  },
  {
   "cell_type": "code",
   "execution_count": 59,
   "metadata": {},
   "outputs": [],
   "source": [
    "p1 = Portfolio()"
   ]
  },
  {
   "cell_type": "code",
   "execution_count": 62,
   "metadata": {},
   "outputs": [],
   "source": [
    "p1.add_position(ac20)\n",
    "#p1.add_position(ap20)\n",
    "#p1.add_position(ac21)\n",
    "#p1.add_position(ap22)\n",
    "p1.add_position(a20)"
   ]
  },
  {
   "cell_type": "code",
   "execution_count": null,
   "metadata": {},
   "outputs": [],
   "source": []
  },
  {
   "cell_type": "code",
   "execution_count": 64,
   "metadata": {},
   "outputs": [],
   "source": [
    "p1.get_data()"
   ]
  },
  {
   "cell_type": "code",
   "execution_count": 65,
   "metadata": {},
   "outputs": [
    {
     "data": {
      "text/plain": [
       "[<matplotlib.lines.Line2D at 0x9c625f8>]"
      ]
     },
     "execution_count": 65,
     "metadata": {},
     "output_type": "execute_result"
    },
    {
     "data": {
      "image/png": "[encoded data removed]",
      "text/plain": [
       "<Figure size 432x288 with 1 Axes>"
      ]
     },
     "metadata": {
      "needs_background": "light"
     },
     "output_type": "display_data"
    }
   ],
   "source": [
    "plt.plot(p1.total_payoff()[0],p1.total_payoff()[1])"
   ]
  },
  {
   "cell_type": "code",
   "execution_count": 158,
   "metadata": {},
   "outputs": [],
   "source": [
    "root = Tk()"
   ]
  },
  {
   "cell_type": "code",
   "execution_count": 159,
   "metadata": {},
   "outputs": [],
   "source": [
    "#creating label\n",
    "mylabel = Label(root, text = \"Option Payoff Diagram\")\n",
    "mylabel2 = Label(root,text = \"Input positions below\")\n",
    "slabel = Label(root,text=\"Underlying\")\n",
    "elabel = Label(root,text=\"Call/Put\")\n",
    "nlabel = Label(root,text=\"Long/Short\")\n",
    "plabel= Label(root,text=\"Maturity\")\n",
    "p2label= Label(root,text=\"Quantity\")\n",
    "p3label= Label(root,text=\"Strike\")\n",
    "s  = Entry(root)\n",
    "e  = Entry(root)\n",
    "n  = Entry(root)\n",
    "p = Entry(root)\n",
    "p2 = Entry(root)\n",
    "p3 = Entry(root)\n",
    "mylabel.grid(row=0, column = 1)\n",
    "mylabel2.grid(row = 1, column =1)\n",
    "s.grid(row =2, column = 1)\n",
    "e.grid(row=3, column = 1)\n",
    "n.grid(row=4, column = 1)\n",
    "p.grid(row=2, column = 3)\n",
    "p2.grid(row=3, column= 3)\n",
    "p3.grid(row=4, column = 3)\n",
    "slabel.grid(row=2,column=0)\n",
    "elabel.grid(row =3, column =0)\n",
    "nlabel.grid(row=4,column=0)\n",
    "plabel.grid(row=2,column=2)\n",
    "p2label.grid(row=3,column=2)\n",
    "p3label.grid(row=4, column=2)"
   ]
  },
  {
   "cell_type": "code",
   "execution_count": 160,
   "metadata": {},
   "outputs": [],
   "source": [
    "p1 = Portfolio()\n",
    "def myClick():\n",
    "    position = Option(float(p3.get()),str(e.get()),str(s.get()),int(p2.get()),str(n.get()),str(p.get()))\n",
    "    p1.add_position(position)\n",
    "def myClick1():\n",
    "    position = Stock(str(s.get()),int(p2.get()),str(n.get()))\n",
    "    p1.add_position(position)"
   ]
  },
  {
   "cell_type": "code",
   "execution_count": 161,
   "metadata": {},
   "outputs": [],
   "source": [
    "def myClick2():\n",
    "    p1.get_data()\n",
    "    \n",
    "    f = Figure(figsize=(4,4), dpi=100)\n",
    "    a = f.add_subplot(111)\n",
    "    a.plot(p1.total_payoff()[0],p1.total_payoff()[1])\n",
    "    \n",
    "    canvas = FigureCanvasTkAgg(f, master=root)\n",
    "    canvas.draw()\n",
    "    canvas.get_tk_widget().grid(row = 7, column = 1)\n",
    "def myClear():\n",
    "    p1.calls = []\n",
    "    p1.puts = []\n",
    "    p1.long = []\n",
    "    p1.short = []\n",
    "    p1.data = \"\""
   ]
  },
  {
   "cell_type": "code",
   "execution_count": 162,
   "metadata": {},
   "outputs": [],
   "source": [
    "myButton = Button(root, text=\"Add Option\", command = myClick)\n",
    "myButton.grid(row = 5, column = 1)\n",
    "myButton1 = Button(root, text=\"Add Stock\", command = myClick1)\n",
    "myButton1.grid(row = 5, column = 2)\n",
    "myButton2 = Button(root, text=\"Draw\", command = myClick2)\n",
    "myButton2.grid(row = 5, column = 3)\n",
    "myButton3 = Button(root,text = \"CLEAR ALL DATA\", command = myClear)\n",
    "myButton3.grid(row = 6, column = 1)"
   ]
  },
  {
   "cell_type": "code",
   "execution_count": null,
   "metadata": {
    "scrolled": true
   },
   "outputs": [],
   "source": []
  },
  {
   "cell_type": "code",
   "execution_count": 163,
   "metadata": {},
   "outputs": [],
   "source": [
    "root.mainloop()"
   ]
  },
  {
   "cell_type": "code",
   "execution_count": null,
   "metadata": {},
   "outputs": [],
   "source": []
  },
  {
   "cell_type": "code",
   "execution_count": null,
   "metadata": {},
   "outputs": [],
   "source": []
  },
  {
   "cell_type": "code",
   "execution_count": null,
   "metadata": {},
   "outputs": [],
   "source": []
  },
  {
   "cell_type": "code",
   "execution_count": null,
   "metadata": {},
   "outputs": [],
   "source": []
  }
 ],
 "metadata": {
  "kernelspec": {
   "display_name": "Python 3",
   "language": "python",
   "name": "python3"
  },
  "language_info": {
   "codemirror_mode": {
    "name": "ipython",
    "version": 3
   },
   "file_extension": ".py",
   "mimetype": "text/x-python",
   "name": "python",
   "nbconvert_exporter": "python",
   "pygments_lexer": "ipython3",
   "version": "3.7.3"
  }
 },
 "nbformat": 4,
 "nbformat_minor": 2
}
